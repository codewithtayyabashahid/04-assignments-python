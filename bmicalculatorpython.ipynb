{
  "nbformat": 4,
  "nbformat_minor": 0,
  "metadata": {
    "colab": {
      "provenance": [],
      "authorship_tag": "ABX9TyMizEvBFoq/R6N8UvuNbuQt",
      "include_colab_link": true
    },
    "kernelspec": {
      "name": "python3",
      "display_name": "Python 3"
    },
    "language_info": {
      "name": "python"
    }
  },
  "cells": [
    {
      "cell_type": "markdown",
      "metadata": {
        "id": "view-in-github",
        "colab_type": "text"
      },
      "source": [
        "<a href=\"https://colab.research.google.com/github/codewithtayyabashahid/04-assignments-python/blob/main/bmicalculatorpython.ipynb\" target=\"_parent\"><img src=\"https://colab.research.google.com/assets/colab-badge.svg\" alt=\"Open In Colab\"/></a>"
      ]
    },
    {
      "cell_type": "markdown",
      "source": [
        "***Project 8: BMI calculator with streamlit and python***"
      ],
      "metadata": {
        "id": "q3EWHxcdXpFl"
      }
    },
    {
      "cell_type": "code",
      "source": [
        "import streamlit as st\n",
        "import time\n",
        "\n",
        "st.set_page_config(page_title=\"BMI Calculator\",page_icon=\"🖩\",layout=\"centered\")\n",
        "\n",
        "st.title(\"Project 9 : BMI Calculator In Python\")\n",
        "st.markdown(\"\"\"\n",
        "## enter your body mass index (bmi) enter and calculate \"weight and height\" down below\"\"\")\n",
        "\n",
        "col1,col2 = st.columns(2)\n",
        "with col1:\n",
        "    weight = st.number_input(\"weight (kg):\" ,min_value=1.0, format=\"%.2f\")\n",
        "with col2:\n",
        "    height = st.number_input(\"height (m):\" ,min_value=1.0, format=\"%.2f\")\n",
        "\n",
        "    if height > 0 and weight > 0:\n",
        "        bmi = weight / (height ** 2)\n",
        "        st.subheader(\"Your BMI is: \")\n",
        "        st.markdown(f\"(bmi:.2f)\",unsafe_allow_html=True)\n",
        "\n",
        "        if bmi > 18.5:\n",
        "            st.error(\"underweight\")\n",
        "        elif 18.5 <= bmi < 24.9:\n",
        "                st.success(\"Normal weight\")\n",
        "        elif 25 <= bmi < 29.9 :\n",
        "             st.warning(\"overweight\")\n",
        "        else:\n",
        "             st.error(\"obsity ⚠️\")\n",
        "    else:\n",
        "         st.info(\"please enter valid weiht and height\")\n",
        "\n",
        "\n",
        "\n",
        "\n",
        "\n"
      ],
      "metadata": {
        "id": "LYxpAPIRXz1T"
      },
      "execution_count": null,
      "outputs": []
    }
  ]
}