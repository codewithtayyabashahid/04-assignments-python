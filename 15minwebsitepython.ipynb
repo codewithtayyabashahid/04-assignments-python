{
  "nbformat": 4,
  "nbformat_minor": 0,
  "metadata": {
    "colab": {
      "provenance": [],
      "authorship_tag": "ABX9TyOxABlmvRdKYdLag8MKoGwo",
      "include_colab_link": true
    },
    "kernelspec": {
      "name": "python3",
      "display_name": "Python 3"
    },
    "language_info": {
      "name": "python"
    }
  },
  "cells": [
    {
      "cell_type": "markdown",
      "metadata": {
        "id": "view-in-github",
        "colab_type": "text"
      },
      "source": [
        "<a href=\"https://colab.research.google.com/github/codewithtayyabashahid/04-assignments-python/blob/main/15minwebsitepython.ipynb\" target=\"_parent\"><img src=\"https://colab.research.google.com/assets/colab-badge.svg\" alt=\"Open In Colab\"/></a>"
      ]
    },
    {
      "cell_type": "markdown",
      "source": [
        "***Project 9 : 15 Minutes Website Python with streamlit ***"
      ],
      "metadata": {
        "id": "oCRrd0C4iHYc"
      }
    },
    {
      "cell_type": "code",
      "source": [
        "import streamlit as st\n",
        "import pandas as pd\n",
        "import random\n",
        "\n",
        "# Streamlit Page Configurations\n",
        "st.set_page_config(page_title=\"Student Data Generator\", layout=\"wide\")\n",
        "st.title(\"Student CSV File Generator\")\n",
        "\n",
        "# Define possible values\n",
        "names = [\"Fatima\", \"Ali\", \"Laiba\", \"Abiha\", \"Saad\", \"Hassan\", \"Hamza\", \"Abdullah\",\n",
        "         \"Shahwaiz\", \"Tayyaba\", \"Fiza\", \"Ezza\"]\n",
        "grades = [\"A\", \"B\", \"C\", \"D\", \"E\", \"F\"]\n",
        "\n",
        "# Generate multiple students (Example: 10 students)\n",
        "students = []\n",
        "for i in range(1, 11):  # Generate 10 student records\n",
        "    student = {\n",
        "        \"ID\": i,\n",
        "        \"Name\": random.choice(names),  # Convert set to list\n",
        "        \"Age\": random.randint(18, 25),\n",
        "        \"Grade\": random.choice(grades),\n",
        "        \"Marks\": random.randint(40, 100),\n",
        "    }\n",
        "    students.append(student)\n",
        "\n",
        "# Convert the list of students to a DataFrame\n",
        "df = pd.DataFrame(students)\n",
        "\n",
        "# Display the data\n",
        "st.subheader(\"Generated Students Data\")\n",
        "st.dataframe(df)\n",
        "\n",
        "# Convert DataFrame to CSV\n",
        "csv_file = df.to_csv(index=False).encode('utf-8')\n",
        "\n",
        "# Download button\n",
        "st.download_button(\"Download CSV File\", csv_file, \"students.csv\", \"text/csv\")\n",
        "\n",
        "# Success Message\n",
        "st.success(\"Students Record Generated Successfully!!!\")\n"
      ],
      "metadata": {
        "id": "boZXkJ0SiUv_"
      },
      "execution_count": null,
      "outputs": []
    }
  ]
}