{
  "cells": [
    {
      "cell_type": "markdown",
      "metadata": {
        "id": "view-in-github",
        "colab_type": "text"
      },
      "source": [
        "<a href=\"https://colab.research.google.com/github/codewithtayyabashahid/04-assignments-python/blob/main/guess_the_number_game_python.ipynb\" target=\"_parent\"><img src=\"https://colab.research.google.com/assets/colab-badge.svg\" alt=\"Open In Colab\"/></a>"
      ]
    },
    {
      "cell_type": "markdown",
      "metadata": {
        "id": "tCE_s7jA3s9f"
      },
      "source": [
        "### ***Project 2 : Guess the number game from computer***"
      ]
    },
    {
      "cell_type": "code",
      "execution_count": null,
      "metadata": {
        "colab": {
          "background_save": true,
          "base_uri": "https://localhost:8080/"
        },
        "id": "q6avj6xe4TNL",
        "outputId": "ca61b495-11af-4a56-f8a9-14d867678529"
      },
      "outputs": [
        {
          "name": "stdout",
          "output_type": "stream",
          "text": [
            "Welcome to the number guessing game\n",
            "I am thinking a number between 1 to 100\n",
            "\n",
            "You have 7 guesses left.\n"
          ]
        }
      ],
      "source": [
        "#guess the number game by computer\n",
        "#number 1 to 100\n",
        "\n",
        "import random\n",
        "def guess_the_number():\n",
        "    \"\"\"Project 2: Guess the Number game by Computer\"\"\"\n",
        "    number = random.randint(1, 100)\n",
        "    guesses_left = 7\n",
        "    #welcome message\n",
        "    print(\"Welcome to the number guessing game\")\n",
        "    print(\"I am thinking a number between 1 to 100\")\n",
        "\n",
        "    #loop generated\n",
        "    while guesses_left > 0 :\n",
        "     print(f\"\\nYou have {guesses_left} guesses left.\")\n",
        "     try:\n",
        "        guess=int(input(\"Take a guess of another number. \"))\n",
        "     except ValueError:\n",
        "        print(\"Invalid input: Please enter number.\")\n",
        "        continue\n",
        "\n",
        "     #guess the secret number\n",
        "    if guess > number:\n",
        "       print(\"Toob low number. Tell another!\")\n",
        "    elif guess < number:\n",
        "       print(\"Too High number. Tell another!\")\n",
        "\n",
        "    else:\n",
        "        print(f\"Congratulations! You guessed the correct number in {7 - guesses_left +1} tries!\")\n",
        "        return\n",
        "\n",
        "    guesses_left -= 1\n",
        "\n",
        "    if guesses_left == 0:\n",
        "        print(f\"\\nGame Over! The number was {number}\")\n",
        "\n",
        "guess_the_number()\n"
      ]
    }
  ],
  "metadata": {
    "colab": {
      "provenance": [],
      "authorship_tag": "ABX9TyMgRrlndUZbS6cJpkx45/Wn",
      "include_colab_link": true
    },
    "kernelspec": {
      "display_name": "Python 3",
      "name": "python3"
    },
    "language_info": {
      "name": "python"
    }
  },
  "nbformat": 4,
  "nbformat_minor": 0
}