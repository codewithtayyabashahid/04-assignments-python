{
  "cells": [
    {
      "cell_type": "markdown",
      "metadata": {
        "id": "view-in-github",
        "colab_type": "text"
      },
      "source": [
        "<a href=\"https://colab.research.google.com/github/codewithtayyabashahid/04-assignments-python/blob/main/Rock%2Cpaper%2Cscissor_python_project.ipynb\" target=\"_parent\"><img src=\"https://colab.research.google.com/assets/colab-badge.svg\" alt=\"Open In Colab\"/></a>"
      ]
    },
    {
      "cell_type": "markdown",
      "metadata": {
        "id": "Ckrwq_ma9n-s"
      },
      "source": [
        "**Project 4 : Rock, Paper , Scissors Python project**"
      ]
    },
    {
      "cell_type": "code",
      "execution_count": null,
      "metadata": {
        "colab": {
          "background_save": true,
          "base_uri": "https://localhost:8080/"
        },
        "id": "KweACjnDBTvJ",
        "outputId": "d45853b1-d748-4061-9833-7e730e7bae6b"
      },
      "outputs": [
        {
          "name": "stdout",
          "output_type": "stream",
          "text": [
            "Player: paper\n",
            "Computer: paper\n",
            "It's a tie!\n"
          ]
        }
      ],
      "source": [
        "import random\n",
        "\n",
        "name = input(\"Enter your name: \")\n",
        "\n",
        "options = (\"rock\", \"paper\", \"scissors\")\n",
        "running = True\n",
        "\n",
        "while running:\n",
        "\n",
        "    player = None\n",
        "    computer = random.choice(options)\n",
        "\n",
        "    while player not in options:\n",
        "        player = input(\"Enter a choice (rock, paper, scissors): \")\n",
        "\n",
        "    print(f\"Player: {player}\")\n",
        "    print(f\"Computer: {computer}\")\n",
        "\n",
        "    if player == computer:\n",
        "        print(\"It's a tie!\")\n",
        "    elif player == \"rock\" and computer == \"scissors\":\n",
        "        print(\"You win!\")\n",
        "    elif player == \"paper\" and computer == \"rock\":\n",
        "        print(\"You win!\")\n",
        "    elif player == \"scissors\" and computer == \"paper\":\n",
        "        print(\"You win!\")\n",
        "    else:\n",
        "        print(\"You lose!\")\n",
        "\n",
        "    if not input(f\"{name}, do you want to play again? (Press Enter to continue or type 'no' to exit): \").lower().startswith(\"n\"):\n",
        "        running = False\n",
        "\n",
        "print(f\"Thanks for playing, {name}!\")"
      ]
    }
  ],
  "metadata": {
    "colab": {
      "provenance": [],
      "authorship_tag": "ABX9TyPy8lZJiiSjFbwywkuu9exz",
      "include_colab_link": true
    },
    "kernelspec": {
      "display_name": "Python 3",
      "name": "python3"
    },
    "language_info": {
      "name": "python"
    }
  },
  "nbformat": 4,
  "nbformat_minor": 0
}