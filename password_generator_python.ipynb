{
  "nbformat": 4,
  "nbformat_minor": 0,
  "metadata": {
    "colab": {
      "provenance": [],
      "authorship_tag": "ABX9TyN519z36f4bmY6y+1U61RQN",
      "include_colab_link": true
    },
    "kernelspec": {
      "name": "python3",
      "display_name": "Python 3"
    },
    "language_info": {
      "name": "python"
    }
  },
  "cells": [
    {
      "cell_type": "markdown",
      "metadata": {
        "id": "view-in-github",
        "colab_type": "text"
      },
      "source": [
        "<a href=\"https://colab.research.google.com/github/codewithtayyabashahid/04-assignments-python/blob/main/password_generator_python.ipynb\" target=\"_parent\"><img src=\"https://colab.research.google.com/assets/colab-badge.svg\" alt=\"Open In Colab\"/></a>"
      ]
    },
    {
      "cell_type": "markdown",
      "source": [
        "***Project 7: Password Generator Python Project***"
      ],
      "metadata": {
        "id": "IMHeLsGvTb0p"
      }
    },
    {
      "cell_type": "code",
      "source": [
        "import random\n",
        "\n",
        "uppercase_letter = \"ABCDEFGHIJKLMNOPQRSTUVWXYZ\"\n",
        "lowercase_letter = uppercase_letter.lower()\n",
        "digits = \"0123456789\"\n",
        "symbols = \"[]{}()*;/,._-@?\\+\"\n",
        "\n",
        "upper, lower, nums, syms = True, True, True, True\n",
        "\n",
        "all = \"\"\n",
        "\n",
        "if upper:\n",
        "    all += uppercase_letter\n",
        "if lower:\n",
        "    all += lowercase_letter\n",
        "if nums:\n",
        "    all += digits\n",
        "if syms:\n",
        "    all += symbols\n",
        "\n",
        "length = 40\n",
        "amount = 20\n",
        "\n",
        "for x in range(amount):\n",
        "    password = \"\".join(random.sample(all, length))\n",
        "    print(password)\n",
        "\n"
      ],
      "metadata": {
        "colab": {
          "base_uri": "https://localhost:8080/"
        },
        "id": "VnjLZ5RzTyKN",
        "outputId": "e1bc5b3c-a5ff-49ed-a912-c3c836c4eb06"
      },
      "execution_count": null,
      "outputs": [
        {
          "output_type": "stream",
          "name": "stdout",
          "text": [
            "gKqy@;wfQuWo8ET}(/kA\n",
            "4cTWSlwa/Am*[BFzILe\\\n",
            "xuMZE2zt{9nrT4c60(@?\n",
            "y5[xsLKD-_?mIUgnHZJ2\n",
            "1b@zOSm3s5h-qU]9W)kT\n",
            "]4Mb{A6ESmx@Lfkgd?v-\n",
            "d{t9(yugm8]IcQkDVT1w\n",
            "Q41pmuBzJIYG][Do(FV6\n",
            "yDjdJLuz-4Wx/S\\ZVoka\n",
            "Mf8SB6tL4D_PyC}Z@I2Q\n"
          ]
        }
      ]
    }
  ]
}