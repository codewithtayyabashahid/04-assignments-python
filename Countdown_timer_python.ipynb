{
  "nbformat": 4,
  "nbformat_minor": 0,
  "metadata": {
    "colab": {
      "provenance": [],
      "authorship_tag": "ABX9TyPu7rSeyZ9mP6A/buM8568N",
      "include_colab_link": true
    },
    "kernelspec": {
      "name": "python3",
      "display_name": "Python 3"
    },
    "language_info": {
      "name": "python"
    }
  },
  "cells": [
    {
      "cell_type": "markdown",
      "metadata": {
        "id": "view-in-github",
        "colab_type": "text"
      },
      "source": [
        "<a href=\"https://colab.research.google.com/github/codewithtayyabashahid/04-assignments-python/blob/main/Countdown_timer_python.ipynb\" target=\"_parent\"><img src=\"https://colab.research.google.com/assets/colab-badge.svg\" alt=\"Open In Colab\"/></a>"
      ]
    },
    {
      "cell_type": "markdown",
      "source": [
        "***Project 6: Countdown Timer Python Project***"
      ],
      "metadata": {
        "id": "Jbz2jEIOEtQX"
      }
    },
    {
      "cell_type": "code",
      "source": [
        "import time\n",
        "\n",
        "my_time = int(input(\"Enter the time in seconds: \"))\n",
        "\n",
        "for x in range(my_time, 0, -1):\n",
        "    seconds = x % 60\n",
        "    minutes = int(x / 60) % 60\n",
        "    hours = int(x / 3600)\n",
        "    print(f\"{hours:02}:{minutes:02}:{seconds:02}\")\n",
        "    time.sleep(1)\n",
        "\n",
        "print(\"TIME'S UP!\")"
      ],
      "metadata": {
        "colab": {
          "base_uri": "https://localhost:8080/"
        },
        "id": "iEMNNawHFA5W",
        "outputId": "bc36b3a0-1da2-4c30-8b53-34912933808b"
      },
      "execution_count": null,
      "outputs": [
        {
          "output_type": "stream",
          "name": "stdout",
          "text": [
            "Enter the time in seconds: 20\n",
            "00:00:20\n",
            "00:00:19\n",
            "00:00:18\n",
            "00:00:17\n",
            "00:00:16\n",
            "00:00:15\n",
            "00:00:14\n",
            "00:00:13\n",
            "00:00:12\n",
            "00:00:11\n",
            "00:00:10\n",
            "00:00:09\n",
            "00:00:08\n",
            "00:00:07\n",
            "00:00:06\n",
            "00:00:05\n",
            "00:00:04\n",
            "00:00:03\n",
            "00:00:02\n",
            "00:00:01\n",
            "TIME'S UP!\n"
          ]
        }
      ]
    }
  ]
}